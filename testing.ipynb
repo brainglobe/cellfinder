{
 "cells": [
  {
   "cell_type": "code",
   "execution_count": null,
   "metadata": {},
   "outputs": [],
   "source": [
    "from cellfinder.core.main import main as cellfinder_run\n",
    "import tifffile\n",
    "\n",
    "signal_array = tifffile.imread(\"tests/data/integration/detection/structure_split_test/signal/signal0000.tif\")\n",
    "background_array = tifffile.imread(\"tests/data/integration/detection/structure_split_test/background/background0000.tif\")\n",
    "\n",
    "voxel_sizes = [5, 2, 2] # in microns\n",
    "detected_cells = cellfinder_run(signal_array,background_array,voxel_sizes)"
   ]
  },
  {
   "cell_type": "markdown",
   "metadata": {},
   "source": [
    "## Testing the input file dimensions"
   ]
  },
  {
   "cell_type": "code",
   "execution_count": null,
   "metadata": {},
   "outputs": [],
   "source": [
    "signal_array = tifffile.imread(\"tests/data/integration/detection/structure_split_test/signal/signal0000.tif\")\n",
    "background_array = tifffile.imread(\"tests/data/integration/detection/structure_split_test/background/background0000.tif\")"
   ]
  },
  {
   "cell_type": "code",
   "execution_count": null,
   "metadata": {},
   "outputs": [],
   "source": [
    "print(f\"Signal array shape: {signal_array.shape}\")\n",
    "print(f\"Background array shape: {background_array.shape}\")"
   ]
  },
  {
   "cell_type": "markdown",
   "metadata": {},
   "source": [
    "## Check if API functionality is working correctly or not"
   ]
  },
  {
   "cell_type": "code",
   "execution_count": null,
   "metadata": {},
   "outputs": [],
   "source": [
    "# Just test the imports and function signatures\n",
    "from cellfinder.core.classify import classify, ClassificationParameters, DataParameters\n",
    "\n",
    "# Create dummy configuration objects\n",
    "classification_params = ClassificationParameters(\n",
    "    batch_size=64,\n",
    "    network_depth=\"50-layer\"\n",
    ")\n",
    "\n",
    "data_params = DataParameters(\n",
    "    voxel_sizes=(5, 2, 2),\n",
    "    network_voxel_sizes=(5, 2, 2)\n",
    ")\n",
    "\n",
    "# Just print the objects to verify they're correctly created\n",
    "print(\"ClassificationParameters created successfully:\", classification_params.__dict__)\n",
    "print(\"DataParameters created successfully:\", data_params.__dict__)\n",
    "\n",
    "print(\"API changes implemented successfully!\")"
   ]
  },
  {
   "cell_type": "markdown",
   "metadata": {},
   "source": [
    "## Creating 3d volume "
   ]
  },
  {
   "cell_type": "code",
   "execution_count": 1,
   "metadata": {},
   "outputs": [
    {
     "name": "stdout",
     "output_type": "stream",
     "text": [
      "Found 21 signal images and 21 background images\n",
      "Single image shape: (740, 740)\n",
      "3D signal array shape: (21, 740, 740)\n",
      "3D background array shape: (21, 740, 740)\n"
     ]
    }
   ],
   "source": [
    "import os\n",
    "import numpy as np\n",
    "import tifffile\n",
    "from pathlib import Path\n",
    "\n",
    "# Define paths\n",
    "signal_dir = Path(\"tests/data/integration/detection/structure_split_test/signal\")\n",
    "background_dir = Path(\"tests/data/integration/detection/structure_split_test/background\")\n",
    "\n",
    "# Get sorted lists of image files\n",
    "signal_files = sorted([f for f in os.listdir(signal_dir) if f.endswith('.tif')])\n",
    "background_files = sorted([f for f in os.listdir(background_dir) if f.endswith('.tif')])\n",
    "\n",
    "print(f\"Found {len(signal_files)} signal images and {len(background_files)} background images\")\n",
    "\n",
    "# Load the first image to get dimensions\n",
    "first_signal = tifffile.imread(signal_dir / signal_files[0])\n",
    "print(f\"Single image shape: {first_signal.shape}\")\n",
    "\n",
    "# Create empty arrays to hold stacked images\n",
    "signal_array = np.zeros((len(signal_files), *first_signal.shape), dtype=first_signal.dtype)\n",
    "background_array = np.zeros((len(background_files), *first_signal.shape), dtype=first_signal.dtype)\n",
    "\n",
    "# Load all images into the arrays\n",
    "for i, fname in enumerate(signal_files):\n",
    "    signal_array[i] = tifffile.imread(signal_dir / fname)\n",
    "    \n",
    "for i, fname in enumerate(background_files):\n",
    "    background_array[i] = tifffile.imread(background_dir / fname)\n",
    "\n",
    "print(f\"3D signal array shape: {signal_array.shape}\")\n",
    "print(f\"3D background array shape: {background_array.shape}\")"
   ]
  },
  {
   "cell_type": "markdown",
   "metadata": {},
   "source": [
    "## Cell detection using documentation"
   ]
  },
  {
   "cell_type": "code",
   "execution_count": 2,
   "metadata": {},
   "outputs": [
    {
     "name": "stderr",
     "output_type": "stream",
     "text": [
      "Processing planes: 100%|██████████| 21/21 [00:07<00:00,  2.70it/s]\n",
      "Splitting cell clusters: 100%|██████████| 1/1 [00:09<00:00,  9.14s/it]\n"
     ]
    },
    {
     "name": "stdout",
     "output_type": "stream",
     "text": [
      "Detection complete. Found 40 cells in 0:00:19.014207\n",
      "\u001b[1m2/2\u001b[0m \u001b[32m━━━━━━━━━━━━━━━━━━━━\u001b[0m\u001b[37m\u001b[0m \u001b[1m0s\u001b[0m 221ms/step\n",
      "Classification complete - all points done in : 0:00:01.679569\n",
      "Number of detected cells: 3\n",
      "Example detected cell: x: 699, y: 49, z: 10, type: 2\n",
      "Cell type constants: CELL=2, NO_CELL=1\n"
     ]
    }
   ],
   "source": [
    "from cellfinder.core.main import main as cellfinder_run\n",
    "from brainglobe_utils.cells.cells import Cell\n",
    "\n",
    "# Define voxel sizes (in microns)\n",
    "voxel_sizes = [5, 2, 2]\n",
    "\n",
    "# Run detection pipeline\n",
    "detected_cells = cellfinder_run(signal_array, background_array, voxel_sizes)\n",
    "\n",
    "print(f\"Number of detected cells: {len(detected_cells)}\")\n",
    "if detected_cells:\n",
    "    print(f\"Example detected cell: x: {detected_cells[0].x}, y: {detected_cells[0].y}, z: {detected_cells[0].z}, type: {detected_cells[0].type}\")\n",
    "\n",
    "# Print cell type constants for reference\n",
    "print(f\"Cell type constants: CELL={Cell.CELL}, NO_CELL={Cell.NO_CELL}\")"
   ]
  },
  {
   "cell_type": "code",
   "execution_count": 2,
   "metadata": {},
   "outputs": [
    {
     "name": "stdout",
     "output_type": "stream",
     "text": [
      "\u001b[1m2/2\u001b[0m \u001b[32m━━━━━━━━━━━━━━━━━━━━\u001b[0m\u001b[37m\u001b[0m \u001b[1m0s\u001b[0m 184ms/step\n",
      "Classification complete - all points done in : 0:00:01.609111\n",
      "Classification complete. Number of classified cells: 2\n"
     ]
    }
   ],
   "source": [
    "from cellfinder.core.classify.classify import classify_with_params, ClassificationParameters, DataParameters\n",
    "from brainglobe_utils.cells.cells import Cell\n",
    "\n",
    "# Your signal_array and background_array are already loaded and have shapes:\n",
    "# (21, 740, 740) based on your previous output\n",
    "\n",
    "# Create dummy cells positioned at valid locations within the array\n",
    "detected_cells = [\n",
    "    Cell([370, 370, 10], Cell.CELL),\n",
    "    Cell([370, 370, 11], Cell.CELL)\n",
    "]\n",
    "\n",
    "# Create configuration objects with the CORRECT CUBE SIZES\n",
    "data_params = DataParameters(\n",
    "    voxel_sizes=(5, 2, 2),\n",
    "    network_voxel_sizes=(5, 2, 2),\n",
    "    n_free_cpus=2\n",
    ")\n",
    "\n",
    "classification_params = ClassificationParameters(\n",
    "    batch_size=2,\n",
    "    cube_height=50,  # Match the expected model input size\n",
    "    cube_width=50,   # Match the expected model input size\n",
    "    cube_depth=20,   # Match the expected model input size \n",
    "    network_depth=\"50-layer\"\n",
    ")\n",
    "\n",
    "# Call the function directly\n",
    "classified_cells = classify_with_params(\n",
    "    points=detected_cells,\n",
    "    signal_array=signal_array,\n",
    "    background_array=background_array,\n",
    "    data_parameters=data_params,\n",
    "    classification_parameters=classification_params,\n",
    "    model_name=\"resnet50_tv\"\n",
    ")\n",
    "\n",
    "print(f\"Classification complete. Number of classified cells: {len(classified_cells)}\")"
   ]
  },
  {
   "cell_type": "code",
   "execution_count": null,
   "metadata": {},
   "outputs": [],
   "source": [
    "import brainglobe_utils.cells.cells\n",
    "print(brainglobe_utils.cells.cells.__file__)"
   ]
  },
  {
   "cell_type": "code",
   "execution_count": null,
   "metadata": {},
   "outputs": [],
   "source": []
  }
 ],
 "metadata": {
  "kernelspec": {
   "display_name": "cellfinder",
   "language": "python",
   "name": "python3"
  },
  "language_info": {
   "codemirror_mode": {
    "name": "ipython",
    "version": 3
   },
   "file_extension": ".py",
   "mimetype": "text/x-python",
   "name": "python",
   "nbconvert_exporter": "python",
   "pygments_lexer": "ipython3",
   "version": "3.13.2"
  }
 },
 "nbformat": 4,
 "nbformat_minor": 2
}
