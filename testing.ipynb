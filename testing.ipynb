{
 "cells": [
  {
   "cell_type": "code",
   "execution_count": null,
   "metadata": {},
   "outputs": [],
   "source": [
    "from cellfinder.core.main import main as cellfinder_run\n",
    "import tifffile\n",
    "\n",
    "signal_array = tifffile.imread(\"tests/data/integration/detection/structure_split_test/signal/signal0000.tif\")\n",
    "background_array = tifffile.imread(\"tests/data/integration/detection/structure_split_test/background/background0000.tif\")\n",
    "\n",
    "voxel_sizes = [5, 2, 2] # in microns\n",
    "detected_cells = cellfinder_run(signal_array,background_array,voxel_sizes)"
   ]
  },
  {
   "cell_type": "markdown",
   "metadata": {},
   "source": [
    "## Testing the input file dimensions"
   ]
  },
  {
   "cell_type": "code",
   "execution_count": null,
   "metadata": {},
   "outputs": [],
   "source": [
    "signal_array = tifffile.imread(\"tests/data/integration/detection/structure_split_test/signal/signal0000.tif\")\n",
    "background_array = tifffile.imread(\"tests/data/integration/detection/structure_split_test/background/background0000.tif\")"
   ]
  },
  {
   "cell_type": "code",
   "execution_count": null,
   "metadata": {},
   "outputs": [],
   "source": [
    "print(f\"Signal array shape: {signal_array.shape}\")\n",
    "print(f\"Background array shape: {background_array.shape}\")"
   ]
  },
  {
   "cell_type": "markdown",
   "metadata": {},
   "source": [
    "## Check if API functionality is working correctly or not"
   ]
  },
  {
   "cell_type": "code",
   "execution_count": null,
   "metadata": {},
   "outputs": [],
   "source": [
    "# Just test the imports and function signatures\n",
    "from cellfinder.core.classify import classify, ClassificationParameters, DataParameters\n",
    "\n",
    "# Create dummy configuration objects\n",
    "classification_params = ClassificationParameters(\n",
    "    batch_size=64,\n",
    "    network_depth=\"50-layer\"\n",
    ")\n",
    "\n",
    "data_params = DataParameters(\n",
    "    voxel_sizes=(5, 2, 2),\n",
    "    network_voxel_sizes=(5, 2, 2)\n",
    ")\n",
    "\n",
    "# Just print the objects to verify they're correctly created\n",
    "print(\"ClassificationParameters created successfully:\", classification_params.__dict__)\n",
    "print(\"DataParameters created successfully:\", data_params.__dict__)\n",
    "\n",
    "print(\"API changes implemented successfully!\")"
   ]
  },
  {
   "cell_type": "markdown",
   "metadata": {},
   "source": [
    "## Creating 3d volume "
   ]
  },
  {
   "cell_type": "code",
   "execution_count": 1,
   "metadata": {},
   "outputs": [
    {
     "name": "stdout",
     "output_type": "stream",
     "text": [
      "Found 21 signal images and 21 background images\n",
      "Single image shape: (740, 740)\n",
      "3D signal array shape: (21, 740, 740)\n",
      "3D background array shape: (21, 740, 740)\n"
     ]
    }
   ],
   "source": [
    "import os\n",
    "import numpy as np\n",
    "import tifffile\n",
    "from pathlib import Path\n",
    "\n",
    "# Define paths\n",
    "signal_dir = Path(\"tests/data/integration/detection/structure_split_test/signal\")\n",
    "background_dir = Path(\"tests/data/integration/detection/structure_split_test/background\")\n",
    "\n",
    "# Get sorted lists of image files\n",
    "signal_files = sorted([f for f in os.listdir(signal_dir) if f.endswith('.tif')])\n",
    "background_files = sorted([f for f in os.listdir(background_dir) if f.endswith('.tif')])\n",
    "\n",
    "print(f\"Found {len(signal_files)} signal images and {len(background_files)} background images\")\n",
    "\n",
    "# Load the first image to get dimensions\n",
    "first_signal = tifffile.imread(signal_dir / signal_files[0])\n",
    "print(f\"Single image shape: {first_signal.shape}\")\n",
    "\n",
    "# Create empty arrays to hold stacked images\n",
    "signal_array = np.zeros((len(signal_files), *first_signal.shape), dtype=first_signal.dtype)\n",
    "background_array = np.zeros((len(background_files), *first_signal.shape), dtype=first_signal.dtype)\n",
    "\n",
    "# Load all images into the arrays\n",
    "for i, fname in enumerate(signal_files):\n",
    "    signal_array[i] = tifffile.imread(signal_dir / fname)\n",
    "    \n",
    "for i, fname in enumerate(background_files):\n",
    "    background_array[i] = tifffile.imread(background_dir / fname)\n",
    "\n",
    "print(f\"3D signal array shape: {signal_array.shape}\")\n",
    "print(f\"3D background array shape: {background_array.shape}\")"
   ]
  },
  {
   "cell_type": "markdown",
   "metadata": {},
   "source": [
    "## Cell detection using documentation"
   ]
  },
  {
   "cell_type": "code",
   "execution_count": 2,
   "metadata": {},
   "outputs": [
    {
     "name": "stderr",
     "output_type": "stream",
     "text": [
      "Processing planes: 100%|██████████| 21/21 [00:07<00:00,  2.70it/s]\n",
      "Splitting cell clusters: 100%|██████████| 1/1 [00:09<00:00,  9.14s/it]\n"
     ]
    },
    {
     "name": "stdout",
     "output_type": "stream",
     "text": [
      "Detection complete. Found 40 cells in 0:00:19.014207\n",
      "\u001b[1m2/2\u001b[0m \u001b[32m━━━━━━━━━━━━━━━━━━━━\u001b[0m\u001b[37m\u001b[0m \u001b[1m0s\u001b[0m 221ms/step\n",
      "Classification complete - all points done in : 0:00:01.679569\n",
      "Number of detected cells: 3\n",
      "Example detected cell: x: 699, y: 49, z: 10, type: 2\n",
      "Cell type constants: CELL=2, NO_CELL=1\n"
     ]
    }
   ],
   "source": [
    "from cellfinder.core.main import main as cellfinder_run\n",
    "from brainglobe_utils.cells.cells import Cell\n",
    "\n",
    "# Define voxel sizes (in microns)\n",
    "voxel_sizes = [5, 2, 2]\n",
    "\n",
    "# Run detection pipeline\n",
    "detected_cells = cellfinder_run(signal_array, background_array, voxel_sizes)\n",
    "\n",
    "print(f\"Number of detected cells: {len(detected_cells)}\")\n",
    "if detected_cells:\n",
    "    print(f\"Example detected cell: x: {detected_cells[0].x}, y: {detected_cells[0].y}, z: {detected_cells[0].z}, type: {detected_cells[0].type}\")\n",
    "\n",
    "# Print cell type constants for reference\n",
    "print(f\"Cell type constants: CELL={Cell.CELL}, NO_CELL={Cell.NO_CELL}\")"
   ]
  },
  {
   "cell_type": "code",
   "execution_count": null,
   "metadata": {},
   "outputs": [
    {
     "ename": "ValueError",
     "evalue": "Input 0 of layer \"functional_1\" is incompatible with the layer: expected shape=(None, 50, 50, 20, 2), found shape=(1, 20, 20, 5, 2)",
     "output_type": "error",
     "traceback": [
      "\u001b[31m---------------------------------------------------------------------------\u001b[39m",
      "\u001b[31mValueError\u001b[39m                                Traceback (most recent call last)",
      "\u001b[36mCell\u001b[39m\u001b[36m \u001b[39m\u001b[32mIn[3]\u001b[39m\u001b[32m, line 34\u001b[39m\n\u001b[32m     25\u001b[39m classification_params = ClassificationParameters(\n\u001b[32m     26\u001b[39m     batch_size=\u001b[32m2\u001b[39m,\n\u001b[32m     27\u001b[39m     cube_height=\u001b[32m20\u001b[39m,\n\u001b[32m   (...)\u001b[39m\u001b[32m     30\u001b[39m     network_depth=\u001b[33m\"\u001b[39m\u001b[33m50-layer\u001b[39m\u001b[33m\"\u001b[39m\n\u001b[32m     31\u001b[39m )\n\u001b[32m     33\u001b[39m \u001b[38;5;66;03m# Call the function directly\u001b[39;00m\n\u001b[32m---> \u001b[39m\u001b[32m34\u001b[39m classified_cells = \u001b[43mclassify_with_params\u001b[49m\u001b[43m(\u001b[49m\n\u001b[32m     35\u001b[39m \u001b[43m    \u001b[49m\u001b[43mpoints\u001b[49m\u001b[43m=\u001b[49m\u001b[43mdetected_cells\u001b[49m\u001b[43m,\u001b[49m\n\u001b[32m     36\u001b[39m \u001b[43m    \u001b[49m\u001b[43msignal_array\u001b[49m\u001b[43m=\u001b[49m\u001b[43msignal_array\u001b[49m\u001b[43m,\u001b[49m\n\u001b[32m     37\u001b[39m \u001b[43m    \u001b[49m\u001b[43mbackground_array\u001b[49m\u001b[43m=\u001b[49m\u001b[43mbackground_array\u001b[49m\u001b[43m,\u001b[49m\n\u001b[32m     38\u001b[39m \u001b[43m    \u001b[49m\u001b[43mdata_parameters\u001b[49m\u001b[43m=\u001b[49m\u001b[43mdata_params\u001b[49m\u001b[43m,\u001b[49m\n\u001b[32m     39\u001b[39m \u001b[43m    \u001b[49m\u001b[43mclassification_parameters\u001b[49m\u001b[43m=\u001b[49m\u001b[43mclassification_params\u001b[49m\u001b[43m,\u001b[49m\n\u001b[32m     40\u001b[39m \u001b[43m    \u001b[49m\u001b[43mmodel_name\u001b[49m\u001b[43m=\u001b[49m\u001b[33;43m\"\u001b[39;49m\u001b[33;43mresnet50_tv\u001b[39;49m\u001b[33;43m\"\u001b[39;49m\n\u001b[32m     41\u001b[39m \u001b[43m)\u001b[49m\n\u001b[32m     43\u001b[39m \u001b[38;5;28mprint\u001b[39m(\u001b[33mf\u001b[39m\u001b[33m\"\u001b[39m\u001b[33mClassification complete. Number of classified cells: \u001b[39m\u001b[38;5;132;01m{\u001b[39;00m\u001b[38;5;28mlen\u001b[39m(classified_cells)\u001b[38;5;132;01m}\u001b[39;00m\u001b[33m\"\u001b[39m)\n",
      "\u001b[36mFile \u001b[39m\u001b[32m~/cellfinder-brainglobe/cellfinder/core/classify/classify.py:175\u001b[39m, in \u001b[36mclassify_with_params\u001b[39m\u001b[34m(points, signal_array, background_array, data_parameters, classification_parameters, trained_model, model_weights, model_name, callback)\u001b[39m\n\u001b[32m    173\u001b[39m logger.info(\u001b[33m\"\u001b[39m\u001b[33mRunning inference\u001b[39m\u001b[33m\"\u001b[39m)\n\u001b[32m    174\u001b[39m \u001b[38;5;66;03m# in Keras 3.0 multiprocessing params are specified in the generator\u001b[39;00m\n\u001b[32m--> \u001b[39m\u001b[32m175\u001b[39m predictions = \u001b[43mmodel\u001b[49m\u001b[43m.\u001b[49m\u001b[43mpredict\u001b[49m\u001b[43m(\u001b[49m\n\u001b[32m    176\u001b[39m \u001b[43m    \u001b[49m\u001b[43minference_generator\u001b[49m\u001b[43m,\u001b[49m\n\u001b[32m    177\u001b[39m \u001b[43m    \u001b[49m\u001b[43mverbose\u001b[49m\u001b[43m=\u001b[49m\u001b[38;5;28;43;01mTrue\u001b[39;49;00m\u001b[43m,\u001b[49m\n\u001b[32m    178\u001b[39m \u001b[43m    \u001b[49m\u001b[43mcallbacks\u001b[49m\u001b[43m=\u001b[49m\u001b[43mcallbacks\u001b[49m\u001b[43m,\u001b[49m\n\u001b[32m    179\u001b[39m \u001b[43m\u001b[49m\u001b[43m)\u001b[49m\n\u001b[32m    181\u001b[39m predictions = predictions.round()\n\u001b[32m    182\u001b[39m predictions = predictions.astype(\u001b[33m\"\u001b[39m\u001b[33muint16\u001b[39m\u001b[33m\"\u001b[39m)\n",
      "\u001b[36mFile \u001b[39m\u001b[32m~/miniconda3/envs/cellfinder/lib/python3.13/site-packages/keras/src/utils/traceback_utils.py:122\u001b[39m, in \u001b[36mfilter_traceback.<locals>.error_handler\u001b[39m\u001b[34m(*args, **kwargs)\u001b[39m\n\u001b[32m    119\u001b[39m     filtered_tb = _process_traceback_frames(e.__traceback__)\n\u001b[32m    120\u001b[39m     \u001b[38;5;66;03m# To get the full stack trace, call:\u001b[39;00m\n\u001b[32m    121\u001b[39m     \u001b[38;5;66;03m# `keras.config.disable_traceback_filtering()`\u001b[39;00m\n\u001b[32m--> \u001b[39m\u001b[32m122\u001b[39m     \u001b[38;5;28;01mraise\u001b[39;00m e.with_traceback(filtered_tb) \u001b[38;5;28;01mfrom\u001b[39;00m\u001b[38;5;250m \u001b[39m\u001b[38;5;28;01mNone\u001b[39;00m\n\u001b[32m    123\u001b[39m \u001b[38;5;28;01mfinally\u001b[39;00m:\n\u001b[32m    124\u001b[39m     \u001b[38;5;28;01mdel\u001b[39;00m filtered_tb\n",
      "\u001b[36mFile \u001b[39m\u001b[32m~/miniconda3/envs/cellfinder/lib/python3.13/site-packages/keras/src/layers/input_spec.py:245\u001b[39m, in \u001b[36massert_input_compatibility\u001b[39m\u001b[34m(input_spec, inputs, layer_name)\u001b[39m\n\u001b[32m    243\u001b[39m \u001b[38;5;28;01mif\u001b[39;00m spec_dim \u001b[38;5;129;01mis\u001b[39;00m \u001b[38;5;129;01mnot\u001b[39;00m \u001b[38;5;28;01mNone\u001b[39;00m \u001b[38;5;129;01mand\u001b[39;00m dim \u001b[38;5;129;01mis\u001b[39;00m \u001b[38;5;129;01mnot\u001b[39;00m \u001b[38;5;28;01mNone\u001b[39;00m:\n\u001b[32m    244\u001b[39m     \u001b[38;5;28;01mif\u001b[39;00m spec_dim != dim:\n\u001b[32m--> \u001b[39m\u001b[32m245\u001b[39m         \u001b[38;5;28;01mraise\u001b[39;00m \u001b[38;5;167;01mValueError\u001b[39;00m(\n\u001b[32m    246\u001b[39m             \u001b[33mf\u001b[39m\u001b[33m'\u001b[39m\u001b[33mInput \u001b[39m\u001b[38;5;132;01m{\u001b[39;00minput_index\u001b[38;5;132;01m}\u001b[39;00m\u001b[33m of layer \u001b[39m\u001b[33m\"\u001b[39m\u001b[38;5;132;01m{\u001b[39;00mlayer_name\u001b[38;5;132;01m}\u001b[39;00m\u001b[33m\"\u001b[39m\u001b[33m is \u001b[39m\u001b[33m'\u001b[39m\n\u001b[32m    247\u001b[39m             \u001b[33m\"\u001b[39m\u001b[33mincompatible with the layer: \u001b[39m\u001b[33m\"\u001b[39m\n\u001b[32m    248\u001b[39m             \u001b[33mf\u001b[39m\u001b[33m\"\u001b[39m\u001b[33mexpected shape=\u001b[39m\u001b[38;5;132;01m{\u001b[39;00mspec.shape\u001b[38;5;132;01m}\u001b[39;00m\u001b[33m, \u001b[39m\u001b[33m\"\u001b[39m\n\u001b[32m    249\u001b[39m             \u001b[33mf\u001b[39m\u001b[33m\"\u001b[39m\u001b[33mfound shape=\u001b[39m\u001b[38;5;132;01m{\u001b[39;00mshape\u001b[38;5;132;01m}\u001b[39;00m\u001b[33m\"\u001b[39m\n\u001b[32m    250\u001b[39m         )\n",
      "\u001b[31mValueError\u001b[39m: Input 0 of layer \"functional_1\" is incompatible with the layer: expected shape=(None, 50, 50, 20, 2), found shape=(1, 20, 20, 5, 2)"
     ]
    }
   ],
   "source": [
    "from cellfinder.core.classify.classify import classify_with_params, ClassificationParameters, DataParameters\n",
    "from brainglobe_utils.cells.cells import Cell\n",
    "\n",
    "# Your signal_array and background_array are already loaded and have shapes:\n",
    "# (21, 740, 740) based on your previous output\n",
    "\n",
    "# Create dummy cells positioned at valid locations within the array\n",
    "detected_cells = [\n",
    "    Cell([370, 370, 10], Cell.CELL),\n",
    "    Cell([370, 370, 11], Cell.CELL)\n",
    "]\n",
    "\n",
    "# Create configuration objects with the CORRECT CUBE SIZES\n",
    "data_params = DataParameters(\n",
    "    voxel_sizes=(5, 2, 2),\n",
    "    network_voxel_sizes=(5, 2, 2),\n",
    "    n_free_cpus=2\n",
    ")\n",
    "\n",
    "classification_params = ClassificationParameters(\n",
    "    batch_size=2,\n",
    "    cube_height=50,  # Match the expected model input size\n",
    "    cube_width=50,   # Match the expected model input size\n",
    "    cube_depth=20,   # Match the expected model input size \n",
    "    network_depth=\"50-layer\"\n",
    ")\n",
    "\n",
    "# Call the function directly\n",
    "classified_cells = classify_with_params(\n",
    "    points=detected_cells,\n",
    "    signal_array=signal_array,\n",
    "    background_array=background_array,\n",
    "    data_parameters=data_params,\n",
    "    classification_parameters=classification_params,\n",
    "    model_name=\"resnet50_tv\"\n",
    ")\n",
    "\n",
    "print(f\"Classification complete. Number of classified cells: {len(classified_cells)}\")"
   ]
  },
  {
   "cell_type": "code",
   "execution_count": null,
   "metadata": {},
   "outputs": [],
   "source": [
    "import brainglobe_utils.cells.cells\n",
    "print(brainglobe_utils.cells.cells.__file__)"
   ]
  },
  {
   "cell_type": "code",
   "execution_count": null,
   "metadata": {},
   "outputs": [],
   "source": []
  }
 ],
 "metadata": {
  "kernelspec": {
   "display_name": "cellfinder",
   "language": "python",
   "name": "python3"
  },
  "language_info": {
   "codemirror_mode": {
    "name": "ipython",
    "version": 3
   },
   "file_extension": ".py",
   "mimetype": "text/x-python",
   "name": "python",
   "nbconvert_exporter": "python",
   "pygments_lexer": "ipython3",
   "version": "3.13.2"
  }
 },
 "nbformat": 4,
 "nbformat_minor": 2
}
