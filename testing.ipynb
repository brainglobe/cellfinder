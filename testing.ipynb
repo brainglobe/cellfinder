{
 "cells": [
  {
   "cell_type": "code",
   "execution_count": 6,
   "metadata": {},
   "outputs": [
    {
     "ename": "FileNotFoundError",
     "evalue": "[Errno 2] No such file or directory: '/Users/srutanik/cellfinder-brainglobe/cellfinder/core/classify/tests/data/signal/signal_ch000000.tif'",
     "output_type": "error",
     "traceback": [
      "\u001b[31m---------------------------------------------------------------------------\u001b[39m",
      "\u001b[31mFileNotFoundError\u001b[39m                         Traceback (most recent call last)",
      "\u001b[32m/var/folders/93/cp2j_xqs4zq_r4s51l8xh1kc0000gn/T/ipykernel_2106/4072510059.py\u001b[39m in \u001b[36m?\u001b[39m\u001b[34m()\u001b[39m\n\u001b[32m      1\u001b[39m \u001b[38;5;28;01mfrom\u001b[39;00m cellfinder.core.main \u001b[38;5;28;01mimport\u001b[39;00m main \u001b[38;5;28;01mas\u001b[39;00m cellfinder_run\n\u001b[32m      2\u001b[39m \u001b[38;5;28;01mimport\u001b[39;00m tifffile\n\u001b[32m      3\u001b[39m \n\u001b[32m----> \u001b[39m\u001b[32m4\u001b[39m signal_array = tifffile.imread(\u001b[33m\"tests/data/signal/signal_ch000000.tif\"\u001b[39m)\n\u001b[32m      5\u001b[39m background_array = tifffile.imread(\u001b[33m\"tests/data/background/background_ch010000.tif\"\u001b[39m)\n\u001b[32m      6\u001b[39m \n\u001b[32m      7\u001b[39m voxel_sizes = [\u001b[32m5\u001b[39m, \u001b[32m2\u001b[39m, \u001b[32m2\u001b[39m] \u001b[38;5;66;03m# in microns\u001b[39;00m\n",
      "\u001b[32m~/miniconda3/envs/cellfinder/lib/python3.13/site-packages/tifffile/tifffile.py\u001b[39m in \u001b[36m?\u001b[39m\u001b[34m(files, selection, aszarr, key, series, level, squeeze, maxworkers, buffersize, mode, name, offset, size, pattern, axesorder, categories, imread, imreadargs, sort, container, chunkshape, chunkdtype, axestiled, ioworkers, chunkmode, fillvalue, zattrs, multiscales, omexml, out, out_inplace, _multifile, _useframes, **kwargs)\u001b[39m\n\u001b[32m   1224\u001b[39m         ):\n\u001b[32m   1225\u001b[39m             files = files[\u001b[32m0\u001b[39m]\n\u001b[32m   1226\u001b[39m \n\u001b[32m   1227\u001b[39m         \u001b[38;5;28;01mif\u001b[39;00m isinstance(files, str) \u001b[38;5;28;01mor\u001b[39;00m \u001b[38;5;28;01mnot\u001b[39;00m isinstance(files, Sequence):\n\u001b[32m-> \u001b[39m\u001b[32m1228\u001b[39m             with TiffFile(\n\u001b[32m   1229\u001b[39m                 files,\n\u001b[32m   1230\u001b[39m                 mode=mode,\n\u001b[32m   1231\u001b[39m                 name=name,\n",
      "\u001b[32m~/miniconda3/envs/cellfinder/lib/python3.13/site-packages/tifffile/tifffile.py\u001b[39m in \u001b[36m?\u001b[39m\u001b[34m(self, file, mode, name, offset, size, omexml, _multifile, _useframes, _parent, **is_flags)\u001b[39m\n\u001b[32m   4252\u001b[39m                 \u001b[38;5;28;01mraise\u001b[39;00m ValueError(\u001b[33m'invalid OME-XML'\u001b[39m)\n\u001b[32m   4253\u001b[39m             self._omexml = omexml\n\u001b[32m   4254\u001b[39m             self.is_ome = \u001b[38;5;28;01mTrue\u001b[39;00m\n\u001b[32m   4255\u001b[39m \n\u001b[32m-> \u001b[39m\u001b[32m4256\u001b[39m         fh = FileHandle(file, mode=mode, name=name, offset=offset, size=size)\n\u001b[32m   4257\u001b[39m         self._fh = fh\n\u001b[32m   4258\u001b[39m         self._multifile = \u001b[38;5;28;01mTrue\u001b[39;00m \u001b[38;5;28;01mif\u001b[39;00m _multifile \u001b[38;5;28;01mis\u001b[39;00m \u001b[38;5;28;01mNone\u001b[39;00m \u001b[38;5;28;01melse\u001b[39;00m bool(_multifile)\n\u001b[32m   4259\u001b[39m         self._files = {fh.name: self}\n",
      "\u001b[32m~/miniconda3/envs/cellfinder/lib/python3.13/site-packages/tifffile/tifffile.py\u001b[39m in \u001b[36m?\u001b[39m\u001b[34m(self, file, mode, name, offset, size)\u001b[39m\n\u001b[32m  14631\u001b[39m         self._offset = -\u001b[32m1\u001b[39m \u001b[38;5;28;01mif\u001b[39;00m offset \u001b[38;5;28;01mis\u001b[39;00m \u001b[38;5;28;01mNone\u001b[39;00m \u001b[38;5;28;01melse\u001b[39;00m offset\n\u001b[32m  14632\u001b[39m         self._size = -\u001b[32m1\u001b[39m \u001b[38;5;28;01mif\u001b[39;00m size \u001b[38;5;28;01mis\u001b[39;00m \u001b[38;5;28;01mNone\u001b[39;00m \u001b[38;5;28;01melse\u001b[39;00m size\n\u001b[32m  14633\u001b[39m         self._close = \u001b[38;5;28;01mTrue\u001b[39;00m\n\u001b[32m  14634\u001b[39m         self._lock = NullContext()\n\u001b[32m> \u001b[39m\u001b[32m14635\u001b[39m         self.open()\n\u001b[32m  14636\u001b[39m         \u001b[38;5;28;01massert\u001b[39;00m self._fh \u001b[38;5;28;01mis\u001b[39;00m \u001b[38;5;28;01mnot\u001b[39;00m \u001b[38;5;28;01mNone\u001b[39;00m\n",
      "\u001b[32m~/miniconda3/envs/cellfinder/lib/python3.13/site-packages/tifffile/tifffile.py\u001b[39m in \u001b[36m?\u001b[39m\u001b[34m(self)\u001b[39m\n\u001b[32m  14650\u001b[39m             \u001b[38;5;28;01mif\u001b[39;00m self._mode \u001b[38;5;28;01mnot\u001b[39;00m \u001b[38;5;28;01min\u001b[39;00m {\u001b[33m'rb'\u001b[39m, \u001b[33m'r+b'\u001b[39m, \u001b[33m'wb'\u001b[39m, \u001b[33m'xb'\u001b[39m}:\n\u001b[32m  14651\u001b[39m                 \u001b[38;5;28;01mraise\u001b[39;00m ValueError(f'invalid mode {self._mode}')\n\u001b[32m  14652\u001b[39m             self._file = os.path.realpath(self._file)\n\u001b[32m  14653\u001b[39m             self._dir, self._name = os.path.split(self._file)\n\u001b[32m> \u001b[39m\u001b[32m14654\u001b[39m             self._fh = open(self._file, self._mode, encoding=\u001b[38;5;28;01mNone\u001b[39;00m)\n\u001b[32m  14655\u001b[39m             self._close = \u001b[38;5;28;01mTrue\u001b[39;00m\n\u001b[32m  14656\u001b[39m             self._offset = max(\u001b[32m0\u001b[39m, self._offset)\n\u001b[32m  14657\u001b[39m         \u001b[38;5;28;01melif\u001b[39;00m isinstance(self._file, FileHandle):\n",
      "\u001b[31mFileNotFoundError\u001b[39m: [Errno 2] No such file or directory: '/Users/srutanik/cellfinder-brainglobe/cellfinder/core/classify/tests/data/signal/signal_ch000000.tif'"
     ]
    }
   ],
   "source": [
    "from cellfinder.core.main import main as cellfinder_run\n",
    "import tifffile\n",
    "\n",
    "signal_array = tifffile.imread(\"tests/data/signal/signal_ch000000.tif\")\n",
    "background_array = tifffile.imread(\"tests/data/background/background_ch010000.tif\")\n",
    "\n",
    "voxel_sizes = [5, 2, 2] # in microns\n",
    "detected_cells = cellfinder_run(signal_array,background_array,voxel_sizes)"
   ]
  },
  {
   "cell_type": "code",
   "execution_count": null,
   "metadata": {},
   "outputs": [],
   "source": []
  }
 ],
 "metadata": {
  "kernelspec": {
   "display_name": "cellfinder",
   "language": "python",
   "name": "python3"
  },
  "language_info": {
   "codemirror_mode": {
    "name": "ipython",
    "version": 3
   },
   "file_extension": ".py",
   "mimetype": "text/x-python",
   "name": "python",
   "nbconvert_exporter": "python",
   "pygments_lexer": "ipython3",
   "version": "3.13.2"
  }
 },
 "nbformat": 4,
 "nbformat_minor": 2
}
