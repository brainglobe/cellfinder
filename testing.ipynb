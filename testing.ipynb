{
 "cells": [
  {
   "cell_type": "code",
   "execution_count": null,
   "metadata": {},
   "outputs": [],
   "source": [
    "from cellfinder.core.main import main as cellfinder_run\n",
    "import tifffile\n",
    "\n",
    "signal_array = tifffile.imread(\"tests/data/integration/detection/structure_split_test/signal/signal0000.tif\")\n",
    "background_array = tifffile.imread(\"tests/data/integration/detection/structure_split_test/background/background0000.tif\")\n",
    "\n",
    "voxel_sizes = [5, 2, 2] # in microns\n",
    "detected_cells = cellfinder_run(signal_array,background_array,voxel_sizes)"
   ]
  },
  {
   "cell_type": "markdown",
   "metadata": {},
   "source": [
    "## Testing the input file dimensions"
   ]
  },
  {
   "cell_type": "code",
   "execution_count": null,
   "metadata": {},
   "outputs": [],
   "source": [
    "signal_array = tifffile.imread(\"tests/data/integration/detection/structure_split_test/signal/signal0000.tif\")\n",
    "background_array = tifffile.imread(\"tests/data/integration/detection/structure_split_test/background/background0000.tif\")"
   ]
  },
  {
   "cell_type": "code",
   "execution_count": null,
   "metadata": {},
   "outputs": [],
   "source": [
    "print(f\"Signal array shape: {signal_array.shape}\")\n",
    "print(f\"Background array shape: {background_array.shape}\")"
   ]
  },
  {
   "cell_type": "markdown",
   "metadata": {},
   "source": [
    "## Check if API functionality is working correctly or not"
   ]
  },
  {
   "cell_type": "code",
   "execution_count": null,
   "metadata": {},
   "outputs": [],
   "source": [
    "# Just test the imports and function signatures\n",
    "from cellfinder.core.classify import classify, ClassificationParameters, DataParameters\n",
    "\n",
    "# Create dummy configuration objects\n",
    "classification_params = ClassificationParameters(\n",
    "    batch_size=64,\n",
    "    network_depth=\"50-layer\"\n",
    ")\n",
    "\n",
    "data_params = DataParameters(\n",
    "    voxel_sizes=(5, 2, 2),\n",
    "    network_voxel_sizes=(5, 2, 2)\n",
    ")\n",
    "\n",
    "# Just print the objects to verify they're correctly created\n",
    "print(\"ClassificationParameters created successfully:\", classification_params.__dict__)\n",
    "print(\"DataParameters created successfully:\", data_params.__dict__)\n",
    "\n",
    "print(\"API changes implemented successfully!\")"
   ]
  },
  {
   "cell_type": "markdown",
   "metadata": {},
   "source": [
    "## Creating 3d volume "
   ]
  },
  {
   "cell_type": "code",
   "execution_count": 2,
   "metadata": {},
   "outputs": [
    {
     "name": "stdout",
     "output_type": "stream",
     "text": [
      "Found 21 signal images and 21 background images\n",
      "Single image shape: (740, 740)\n",
      "3D signal array shape: (21, 740, 740)\n",
      "3D background array shape: (21, 740, 740)\n"
     ]
    }
   ],
   "source": [
    "import os\n",
    "import numpy as np\n",
    "import tifffile\n",
    "from pathlib import Path\n",
    "\n",
    "# Define paths\n",
    "signal_dir = Path(\"tests/data/integration/detection/structure_split_test/signal\")\n",
    "background_dir = Path(\"tests/data/integration/detection/structure_split_test/background\")\n",
    "\n",
    "# Get sorted lists of image files\n",
    "signal_files = sorted([f for f in os.listdir(signal_dir) if f.endswith('.tif')])\n",
    "background_files = sorted([f for f in os.listdir(background_dir) if f.endswith('.tif')])\n",
    "\n",
    "print(f\"Found {len(signal_files)} signal images and {len(background_files)} background images\")\n",
    "\n",
    "# Load the first image to get dimensions\n",
    "first_signal = tifffile.imread(signal_dir / signal_files[0])\n",
    "print(f\"Single image shape: {first_signal.shape}\")\n",
    "\n",
    "# Create empty arrays to hold stacked images\n",
    "signal_array = np.zeros((len(signal_files), *first_signal.shape), dtype=first_signal.dtype)\n",
    "background_array = np.zeros((len(background_files), *first_signal.shape), dtype=first_signal.dtype)\n",
    "\n",
    "# Load all images into the arrays\n",
    "for i, fname in enumerate(signal_files):\n",
    "    signal_array[i] = tifffile.imread(signal_dir / fname)\n",
    "    \n",
    "for i, fname in enumerate(background_files):\n",
    "    background_array[i] = tifffile.imread(background_dir / fname)\n",
    "\n",
    "print(f\"3D signal array shape: {signal_array.shape}\")\n",
    "print(f\"3D background array shape: {background_array.shape}\")"
   ]
  },
  {
   "cell_type": "markdown",
   "metadata": {},
   "source": [
    "## Cell detection using documentation"
   ]
  },
  {
   "cell_type": "code",
   "execution_count": 3,
   "metadata": {},
   "outputs": [
    {
     "name": "stderr",
     "output_type": "stream",
     "text": [
      "Processing planes: 100%|██████████| 21/21 [00:04<00:00,  4.64it/s]\n",
      "Splitting cell clusters: 100%|██████████| 1/1 [00:05<00:00,  5.89s/it]\n",
      "Downloading data from 'https://gin.g-node.org/cellfinder/models/raw/master/resnet50_tv.h5' to file '/home/srutanik/.brainglobe/cellfinder/models/resnet50_tv.h5'.\n"
     ]
    },
    {
     "name": "stdout",
     "output_type": "stream",
     "text": [
      "Detection complete. Found 40 cells in 0:00:12.084582\n"
     ]
    },
    {
     "name": "stderr",
     "output_type": "stream",
     "text": [
      "100%|████████████████████████████████████████| 185M/185M [00:00<00:00, 539GB/s]\n"
     ]
    },
    {
     "name": "stdout",
     "output_type": "stream",
     "text": [
      "(Over-)writing custom user configuration\n"
     ]
    },
    {
     "ename": "AttributeError",
     "evalue": "'function' object has no attribute 'main'",
     "output_type": "error",
     "traceback": [
      "\u001b[31m---------------------------------------------------------------------------\u001b[39m",
      "\u001b[31mAttributeError\u001b[39m                            Traceback (most recent call last)",
      "\u001b[36mCell\u001b[39m\u001b[36m \u001b[39m\u001b[32mIn[3]\u001b[39m\u001b[32m, line 8\u001b[39m\n\u001b[32m      5\u001b[39m voxel_sizes = [\u001b[32m5\u001b[39m, \u001b[32m2\u001b[39m, \u001b[32m2\u001b[39m]\n\u001b[32m      7\u001b[39m \u001b[38;5;66;03m# Run detection pipeline\u001b[39;00m\n\u001b[32m----> \u001b[39m\u001b[32m8\u001b[39m detected_cells = \u001b[43mcellfinder_run\u001b[49m\u001b[43m(\u001b[49m\u001b[43msignal_array\u001b[49m\u001b[43m,\u001b[49m\u001b[43m \u001b[49m\u001b[43mbackground_array\u001b[49m\u001b[43m,\u001b[49m\u001b[43m \u001b[49m\u001b[43mvoxel_sizes\u001b[49m\u001b[43m)\u001b[49m\n\u001b[32m     10\u001b[39m \u001b[38;5;28mprint\u001b[39m(\u001b[33mf\u001b[39m\u001b[33m\"\u001b[39m\u001b[33mNumber of detected cells: \u001b[39m\u001b[38;5;132;01m{\u001b[39;00m\u001b[38;5;28mlen\u001b[39m(detected_cells)\u001b[38;5;132;01m}\u001b[39;00m\u001b[33m\"\u001b[39m)\n\u001b[32m     11\u001b[39m \u001b[38;5;28;01mif\u001b[39;00m detected_cells:\n",
      "\u001b[36mFile \u001b[39m\u001b[32m~/cellfinder-brainglobe/cellfinder/core/main.py:97\u001b[39m, in \u001b[36mmain\u001b[39m\u001b[34m(signal_array, background_array, voxel_sizes, start_plane, end_plane, trained_model, model_weights, model, batch_size, n_free_cpus, network_voxel_sizes, soma_diameter, ball_xy_size, ball_z_size, ball_overlap_fraction, log_sigma_size, n_sds_above_mean_thresh, soma_spread_factor, max_cluster_size, cube_width, cube_height, cube_depth, network_depth, skip_detection, skip_classification, detected_cells, classification_batch_size, classification_torch_device, detect_callback, classify_callback, detect_finished_callback)\u001b[39m\n\u001b[32m     95\u001b[39m \u001b[38;5;28;01mif\u001b[39;00m \u001b[38;5;28mlen\u001b[39m(points) > \u001b[32m0\u001b[39m:\n\u001b[32m     96\u001b[39m     logger.info(\u001b[33m\"\u001b[39m\u001b[33mRunning classification\u001b[39m\u001b[33m\"\u001b[39m)\n\u001b[32m---> \u001b[39m\u001b[32m97\u001b[39m     points = \u001b[43mclassify\u001b[49m\u001b[43m.\u001b[49m\u001b[43mmain\u001b[49m(\n\u001b[32m     98\u001b[39m         points,\n\u001b[32m     99\u001b[39m         signal_array,\n\u001b[32m    100\u001b[39m         background_array,\n\u001b[32m    101\u001b[39m         n_free_cpus,\n\u001b[32m    102\u001b[39m         voxel_sizes,\n\u001b[32m    103\u001b[39m         network_voxel_sizes,\n\u001b[32m    104\u001b[39m         batch_size,\n\u001b[32m    105\u001b[39m         cube_height,\n\u001b[32m    106\u001b[39m         cube_width,\n\u001b[32m    107\u001b[39m         cube_depth,\n\u001b[32m    108\u001b[39m         trained_model,\n\u001b[32m    109\u001b[39m         model_weights,\n\u001b[32m    110\u001b[39m         network_depth,\n\u001b[32m    111\u001b[39m         callback=classify_callback,\n\u001b[32m    112\u001b[39m     )\n\u001b[32m    113\u001b[39m \u001b[38;5;28;01melse\u001b[39;00m:\n\u001b[32m    114\u001b[39m     logger.info(\u001b[33m\"\u001b[39m\u001b[33mNo candidates, skipping classification\u001b[39m\u001b[33m\"\u001b[39m)\n",
      "\u001b[31mAttributeError\u001b[39m: 'function' object has no attribute 'main'"
     ]
    }
   ],
   "source": [
    "from cellfinder.core.main import main as cellfinder_run\n",
    "from brainglobe_utils.cells.cells import Cell\n",
    "\n",
    "# Define voxel sizes (in microns)\n",
    "voxel_sizes = [5, 2, 2]\n",
    "\n",
    "# Run detection pipeline\n",
    "detected_cells = cellfinder_run(signal_array, background_array, voxel_sizes)\n",
    "\n",
    "print(f\"Number of detected cells: {len(detected_cells)}\")\n",
    "if detected_cells:\n",
    "    print(f\"Example detected cell: x: {detected_cells[0].x}, y: {detected_cells[0].y}, z: {detected_cells[0].z}, type: {detected_cells[0].type}\")\n",
    "\n",
    "# Print cell type constants for reference\n",
    "print(f\"Cell type constants: CELL={Cell.CELL}, NO_CELL={Cell.NO_CELL}\")"
   ]
  },
  {
   "cell_type": "code",
   "execution_count": null,
   "metadata": {},
   "outputs": [],
   "source": []
  },
  {
   "cell_type": "code",
   "execution_count": null,
   "metadata": {},
   "outputs": [],
   "source": []
  }
 ],
 "metadata": {
  "kernelspec": {
   "display_name": "cellfinder",
   "language": "python",
   "name": "python3"
  },
  "language_info": {
   "codemirror_mode": {
    "name": "ipython",
    "version": 3
   },
   "file_extension": ".py",
   "mimetype": "text/x-python",
   "name": "python",
   "nbconvert_exporter": "python",
   "pygments_lexer": "ipython3",
   "version": "3.13.2"
  }
 },
 "nbformat": 4,
 "nbformat_minor": 2
}
